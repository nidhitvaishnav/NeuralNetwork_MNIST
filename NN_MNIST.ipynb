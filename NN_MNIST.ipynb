{
 "cells": [
  {
   "cell_type": "code",
   "execution_count": 1,
   "metadata": {},
   "outputs": [],
   "source": [
    "import os\n",
    "import warnings\n",
    "os.environ['TF_CPP_MIN_LOG_LEVEL'] = '3'\n",
    "warnings.simplefilter(action='ignore', category=FutureWarning)"
   ]
  },
  {
   "cell_type": "code",
   "execution_count": 2,
   "metadata": {},
   "outputs": [],
   "source": [
    "import numpy as np\n",
    "import tensorflow as tf"
   ]
  },
  {
   "cell_type": "code",
   "execution_count": 3,
   "metadata": {},
   "outputs": [],
   "source": [
    "sess = tf.InteractiveSession()"
   ]
  },
  {
   "cell_type": "code",
   "execution_count": 5,
   "metadata": {},
   "outputs": [
    {
     "name": "stdout",
     "output_type": "stream",
     "text": [
      "Extracting MNIST_data\\train-images-idx3-ubyte.gz\n",
      "Extracting MNIST_data\\train-labels-idx1-ubyte.gz\n",
      "Extracting MNIST_data\\t10k-images-idx3-ubyte.gz\n",
      "Extracting MNIST_data\\t10k-labels-idx1-ubyte.gz\n"
     ]
    }
   ],
   "source": [
    "# Tensorflow MNIST\n",
    "from tensorflow.examples.tutorials.mnist import input_data\n",
    "mnist = input_data.read_data_sets('MNIST_data', one_hot=True)"
   ]
  },
  {
   "cell_type": "code",
   "execution_count": 6,
   "metadata": {},
   "outputs": [],
   "source": [
    "# xi is an image of size n. yi is the N labels of the image\n",
    "# X is mxn. Row xi of X is an image \n",
    "# Y is mxN. Row yi of Y is the labels of xi\n",
    "X = tf.placeholder(tf.float32, shape=[None, 784])\n",
    "Y = tf.placeholder(tf.float32, shape=[None, 10])"
   ]
  },
  {
   "cell_type": "code",
   "execution_count": 7,
   "metadata": {},
   "outputs": [],
   "source": [
    "# a method for initializing weights. Initialize to small random values\n",
    "\n",
    "def weight_variable(shape):\n",
    "  initial = tf.truncated_normal(shape, stddev=0.1)\n",
    "  return tf.Variable(initial)"
   ]
  },
  {
   "cell_type": "code",
   "execution_count": 8,
   "metadata": {},
   "outputs": [],
   "source": [
    "# a method for initializing bias. Initialize to 0.1\n",
    "def bias_variable(shape):\n",
    "  initial = tf.constant(0.1, shape=shape)\n",
    "  return tf.Variable(initial)"
   ]
  },
  {
   "cell_type": "code",
   "execution_count": 9,
   "metadata": {},
   "outputs": [],
   "source": [
    "# cross correlation with specifc strides and padding\n",
    "def conv2d(X, W):\n",
    "  return tf.nn.conv2d(X, W, strides=[1, 1, 1, 1], padding='SAME')"
   ]
  },
  {
   "cell_type": "code",
   "execution_count": 10,
   "metadata": {},
   "outputs": [],
   "source": [
    "def max_pool_2x2(X):\n",
    "  return tf.nn.max_pool(X, ksize=[1, 2, 2, 1],\n",
    "                        strides=[1, 2, 2, 1], padding='SAME')"
   ]
  },
  {
   "cell_type": "code",
   "execution_count": 11,
   "metadata": {},
   "outputs": [],
   "source": [
    "# First Convolutional Layer. \n",
    "W_conv1 = weight_variable([5, 5, 1, 32])\n",
    "b_conv1 = bias_variable([32])"
   ]
  },
  {
   "cell_type": "code",
   "execution_count": 12,
   "metadata": {},
   "outputs": [],
   "source": [
    "X_image = tf.reshape(X, [-1,28,28,1]) # X_image ?x28x28x1\n",
    "h_conv1 = tf.nn.relu(conv2d(X_image, W_conv1) + b_conv1) # h_conv1 ?x28x28x32\n",
    "h_pool1 = max_pool_2x2(h_conv1) # h_pool1 ?x14x14x32"
   ]
  },
  {
   "cell_type": "code",
   "execution_count": 13,
   "metadata": {},
   "outputs": [],
   "source": [
    "# Second Convolutional Layer\n",
    "W_conv2 = weight_variable([5, 5, 32, 64])\n",
    "b_conv2 = bias_variable([64])\n",
    "h_conv2 = tf.nn.relu(conv2d(h_pool1, W_conv2) + b_conv2)  # h_conv2 ?x14x14x64\n",
    "h_pool2 = max_pool_2x2(h_conv2) # h_pool2 ?x7x7x64"
   ]
  },
  {
   "cell_type": "code",
   "execution_count": 14,
   "metadata": {},
   "outputs": [],
   "source": [
    "# Densely Connected Layer\n",
    "W_fc1 = weight_variable([7 * 7 * 64, 1024])\n",
    "b_fc1 = bias_variable([1024])"
   ]
  },
  {
   "cell_type": "code",
   "execution_count": 15,
   "metadata": {},
   "outputs": [],
   "source": [
    "h_pool2_flat = tf.reshape(h_pool2, [-1, 7*7*64]) # h_pool2_flat ?x7.7.64\n",
    "h_fc1 = tf.nn.relu(tf.matmul(h_pool2_flat, W_fc1) + b_fc1) # h_fc1 ?x1024"
   ]
  },
  {
   "cell_type": "code",
   "execution_count": 16,
   "metadata": {},
   "outputs": [],
   "source": [
    "# Dropout\n",
    "keep_prob = tf.placeholder(tf.float32)\n",
    "h_fc1_drop = tf.nn.dropout(h_fc1, keep_prob) # h_fc1_drop ?x1024"
   ]
  },
  {
   "cell_type": "code",
   "execution_count": 17,
   "metadata": {},
   "outputs": [],
   "source": [
    "# Readout Layer\n",
    "W_fc2 = weight_variable([1024, 10])\n",
    "b_fc2 = bias_variable([10])"
   ]
  },
  {
   "cell_type": "code",
   "execution_count": 18,
   "metadata": {},
   "outputs": [],
   "source": [
    "y_conv = tf.matmul(h_fc1_drop, W_fc2) + b_fc2 # y_conv ?x10"
   ]
  },
  {
   "cell_type": "code",
   "execution_count": 19,
   "metadata": {},
   "outputs": [],
   "source": [
    "cross_entropy = tf.reduce_mean(\n",
    "    tf.nn.softmax_cross_entropy_with_logits_v2(labels=Y, logits=y_conv))"
   ]
  },
  {
   "cell_type": "code",
   "execution_count": 20,
   "metadata": {},
   "outputs": [],
   "source": [
    "train_step = tf.train.AdamOptimizer(1e-4).minimize(cross_entropy)\n",
    "correct_prediction = tf.equal(tf.argmax(y_conv,1), tf.argmax(Y,1))\n",
    "accuracy = tf.reduce_mean(tf.cast(correct_prediction, tf.float32))\n",
    "sess.run(tf.global_variables_initializer())"
   ]
  },
  {
   "cell_type": "code",
   "execution_count": 21,
   "metadata": {},
   "outputs": [
    {
     "name": "stdout",
     "output_type": "stream",
     "text": [
      "step 0, training acc 0.060, validation acc 0.147 \n",
      "step 100, training acc 0.900, validation acc 0.857 \n",
      "step 200, training acc 0.960, validation acc 0.913 \n",
      "step 300, training acc 0.880, validation acc 0.932 \n",
      "step 400, training acc 0.900, validation acc 0.944 \n",
      "step 500, training acc 1.000, validation acc 0.946 \n",
      "step 600, training acc 0.900, validation acc 0.956 \n",
      "step 700, training acc 0.980, validation acc 0.956 \n",
      "step 800, training acc 0.900, validation acc 0.962 \n",
      "step 900, training acc 0.960, validation acc 0.962 \n",
      "step 1000, training acc 0.960, validation acc 0.966 \n",
      "step 1100, training acc 0.940, validation acc 0.967 \n",
      "step 1200, training acc 1.000, validation acc 0.971 \n",
      "step 1300, training acc 1.000, validation acc 0.972 \n",
      "step 1400, training acc 0.940, validation acc 0.974 \n",
      "step 1500, training acc 0.980, validation acc 0.975 \n",
      "step 1600, training acc 0.980, validation acc 0.975 \n",
      "step 1700, training acc 0.960, validation acc 0.977 \n",
      "step 1800, training acc 0.980, validation acc 0.976 \n",
      "step 1900, training acc 1.000, validation acc 0.978 \n",
      "test acc 0.976 \n"
     ]
    }
   ],
   "source": [
    "batch_size = 50\n",
    "iters = 2000\n",
    "for i in range(iters):\n",
    "    batch = mnist.train.next_batch(batch_size)\n",
    "    if i%100 == 0:\n",
    "        train_accuracy = accuracy.eval(feed_dict={ X:batch[0], \n",
    "                                        Y: batch[1], keep_prob: 1.0})\n",
    "        validation_accuracy = accuracy.eval(feed_dict={ X: mnist.validation.images, \n",
    "                                    Y: mnist.validation.labels, keep_prob: 1.0})\n",
    "\n",
    "        print(\"step %d, training acc %.3f, validation acc %.3f \" %\n",
    "                                (i, train_accuracy, validation_accuracy))\n",
    "    train_step.run(feed_dict={X: batch[0], Y: batch[1], keep_prob: 0.5})\n",
    "\n",
    "print(\"test acc %.3f \"%accuracy.eval(feed_dict={ X: mnist.test.images, \n",
    "                            Y: mnist.test.labels, keep_prob: 1.0}))\n"
   ]
  },
  {
   "cell_type": "code",
   "execution_count": null,
   "metadata": {},
   "outputs": [],
   "source": []
  }
 ],
 "metadata": {
  "kernelspec": {
   "display_name": "Python 3",
   "language": "python",
   "name": "python3"
  },
  "language_info": {
   "codemirror_mode": {
    "name": "ipython",
    "version": 3
   },
   "file_extension": ".py",
   "mimetype": "text/x-python",
   "name": "python",
   "nbconvert_exporter": "python",
   "pygments_lexer": "ipython3",
   "version": "3.6.4"
  }
 },
 "nbformat": 4,
 "nbformat_minor": 2
}
